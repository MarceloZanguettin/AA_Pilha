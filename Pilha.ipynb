{
  "nbformat": 4,
  "nbformat_minor": 0,
  "metadata": {
    "colab": {
      "provenance": [],
      "collapsed_sections": [],
      "authorship_tag": "ABX9TyMsRy0AH8OjjYMhapJvlMqS",
      "include_colab_link": true
    },
    "kernelspec": {
      "name": "python3",
      "display_name": "Python 3"
    },
    "language_info": {
      "name": "python"
    }
  },
  "cells": [
    {
      "cell_type": "markdown",
      "metadata": {
        "id": "view-in-github",
        "colab_type": "text"
      },
      "source": [
        "<a href=\"https://colab.research.google.com/github/MarceloZanguettin/AA_Pilha/blob/main/Pilha.ipynb\" target=\"_parent\"><img src=\"https://colab.research.google.com/assets/colab-badge.svg\" alt=\"Open In Colab\"/></a>"
      ]
    },
    {
      "cell_type": "markdown",
      "source": [
        "<h1>Algoritmos Avançados</H1>\n",
        "<h2>Fila e Pilha</H2>\n",
        "<p>Prof. Dr.: Adriano Sunao Nakamura <br> Data: 03/03/2022 - Criação de Pilha e Fila</p>\n",
        "Data: 09/03/2022 - Resolução de alguns exercícios</p>"
      ],
      "metadata": {
        "id": "kiPofhAJtqZr"
      }
    },
    {
      "cell_type": "code",
      "source": [
        "class No:\n",
        "  info=0\n",
        "  proximo=None\n",
        "  def __init__(self, info, proximo=None):\n",
        "    self.info=info\n",
        "    self.proximo=proximo"
      ],
      "metadata": {
        "id": "HW_F32HmwfV6"
      },
      "execution_count": null,
      "outputs": []
    },
    {
      "cell_type": "code",
      "execution_count": null,
      "metadata": {
        "id": "YGyOKa3-tmsW"
      },
      "outputs": [],
      "source": [
        "class Fila:\n",
        "    def __init__(self):\n",
        "      self.inicio=None;\n",
        "      self.fim=None;\n",
        "      self.tamanho=0;\n",
        "    \n",
        "    def insere(self, x):\n",
        "      no=No(x)\n",
        "      if self.tamanho==0:\n",
        "        self.inicio=no\n",
        "      else:\n",
        "        self.fim.proximo=no\n",
        "      self.fim = no\n",
        "      self.tamanho+=1\n",
        "\n",
        "    def remove(self):\n",
        "      if self.tamanho==0:\n",
        "        return None\n",
        "      atual=self.inicio\n",
        "      self.inicio=self.inicio.proximo\n",
        "      self.tamanho-=1\n",
        "      if self.tamanho==0:\n",
        "        self.fim=None\n",
        "      return atual.info\n",
        "    def vazia(self):\n",
        "      return self.tamanho==0\n",
        "\n",
        "    def imprime(self):\n",
        "      ponteiro=self.inicio\n",
        "      while ponteiro != None:\n",
        "        print(ponteiro.info, \"->\")\n",
        "        ponteiro=ponteiro.proximo"
      ]
    },
    {
      "cell_type": "code",
      "source": [
        "class Pilha:\n",
        "    inicio=None\n",
        "    altura=0\n",
        "    def __init__(self):\n",
        "      self.inicio=None\n",
        "      self.altura=0\n",
        "    \n",
        "    def empilha(self, x):\n",
        "      no=No(x)\n",
        "      no.proximo=self.inicio\n",
        "      self.inicio=no\n",
        "      self.altura+=1\n",
        "    \n",
        "    def desempilha(self):\n",
        "      if self.inicio==None:\n",
        "        return None\n",
        "      n=self.inicio.info\n",
        "      self.inicio=self.inicio.proximo\n",
        "      self.altura-=1\n",
        "      return n\n",
        "    def vazia(self):\n",
        "      return self.altura ==0\n",
        "    \n",
        "    def imprime(self):\n",
        "      ponteiro=self.inicio\n",
        "      while ponteiro != None:\n",
        "        print(ponteiro.info, \"->\")\n",
        "        ponteiro=ponteiro.proximo"
      ],
      "metadata": {
        "id": "2Ijsl-dI5hIK"
      },
      "execution_count": null,
      "outputs": []
    },
    {
      "cell_type": "code",
      "source": [
        "# Exercicio 1\n",
        "def verificarBalanceamento(expressao):\n",
        "    p=Pilha()\n",
        "    Erro=False\n",
        "    for i in expressao:\n",
        "        if i=='(':\n",
        "            p.empilha(i)\n",
        "        elif i==')':\n",
        "            if p.desempilha()==None:\n",
        "                Erro=True\n",
        "                break\n",
        "    if not Erro and p.vazia():\n",
        "        return True\n",
        "    return False"
      ],
      "metadata": {
        "id": "Kbq28F7LmFsX"
      },
      "execution_count": null,
      "outputs": []
    },
    {
      "cell_type": "code",
      "source": [
        "if(verificarBalanceamento('()()(()')):\n",
        "    print('Balanceamento correto!')\n",
        "else:\n",
        "    print('Balanceamento incorreto!')"
      ],
      "metadata": {
        "colab": {
          "base_uri": "https://localhost:8080/"
        },
        "id": "D8W2_ufIrKZh",
        "outputId": "604771fe-ea59-4f0c-bdef-3fcc9e3cc26b"
      },
      "execution_count": null,
      "outputs": [
        {
          "output_type": "stream",
          "name": "stdout",
          "text": [
            "Balanceamento incorreto!\n"
          ]
        }
      ]
    },
    {
      "cell_type": "code",
      "source": [
        "# Exercicio 2\n",
        "def trocaVogal(expressao):\n",
        "    p=Pilha()\n",
        "    auxiliar=Pilha()\n",
        "    s=list(expressao)\n",
        "    for i in expressao:\n",
        "        if i=='a' or i=='e' or i=='i' or i=='o' or i=='u':\n",
        "            p.empilha(i)\n",
        "    for i in range(len(expressao)):\n",
        "        c=expressao[i]\n",
        "        if c=='a' or c=='e' or c=='i' or c=='o' or c=='u':\n",
        "            s[i]=p.desempilha()\n",
        "    expressao=\"\".join(s)\n",
        "    return print(expressao)"
      ],
      "metadata": {
        "id": "qDx5iT1-syb0"
      },
      "execution_count": null,
      "outputs": []
    },
    {
      "cell_type": "code",
      "source": [
        "trocaVogal('qwertyuiopasdfghjklçzxucvbnm,ujgfatir')"
      ],
      "metadata": {
        "colab": {
          "base_uri": "https://localhost:8080/"
        },
        "id": "KVNz5fdNw24V",
        "outputId": "19a7f7d3-1763-42ca-f160-1909cd37a714"
      },
      "execution_count": null,
      "outputs": [
        {
          "output_type": "stream",
          "name": "stdout",
          "text": [
            "qwirtyauupasdfghjklçzxocvbnm,ijgfuter\n"
          ]
        }
      ]
    },
    {
      "cell_type": "code",
      "source": [
        "# Exercicio 5\n",
        "def intercalar(f1, f2, f3):\n",
        "    while not (f1.vazia() and f2.vazia()):\n",
        "        info=f1.remove()\n",
        "        if info != None:\n",
        "            f3.insere(info)\n",
        "        info=f2.remove()\n",
        "        if info != None:\n",
        "            f3.insere(info)"
      ],
      "metadata": {
        "id": "SGlTi4RF_dL9"
      },
      "execution_count": null,
      "outputs": []
    },
    {
      "cell_type": "code",
      "source": [
        "# Exercicio 6\n",
        "def distribui(f1, f2, f3):\n",
        "    while not f1.vazia():\n",
        "        info=f1.remove()\n",
        "        info2=f1.remove()\n",
        "        if info2 != None:\n",
        "            f2.insere(info)\n",
        "            f3.insere(info2)\n",
        "        else:\n",
        "            f2.insere(info)\n",
        "\n"
      ],
      "metadata": {
        "id": "kkJb_0sAzxLH"
      },
      "execution_count": null,
      "outputs": []
    },
    {
      "cell_type": "code",
      "source": [
        "# Exercicio 2\n",
        "def inverteVogais(frase):\n",
        "    frase2=''\n",
        "    p=Pilha()\n",
        "    for c in frase:\n",
        "        if c.lower() in ['a', 'e', 'i', 'o', 'u']:\n",
        "            p.empilha(c)\n",
        "    for c in frase:\n",
        "        if c.lower() in ['a', 'e', 'i', 'o', 'u']:\n",
        "            frase2+=p.desempilha()\n",
        "        else:\n",
        "            frase2+=c\n",
        "    return print(frase2)"
      ],
      "metadata": {
        "id": "bBBqQznEnL-b"
      },
      "execution_count": null,
      "outputs": []
    },
    {
      "cell_type": "code",
      "source": [
        "inverteVogais('Curso de Tecnologia de Big Data no agronegocio')"
      ],
      "metadata": {
        "colab": {
          "base_uri": "https://localhost:8080/"
        },
        "id": "bxi0N4hQoxpl",
        "outputId": "7254fbaf-1a1d-458e-c949-07dccded07e0"
      },
      "execution_count": null,
      "outputs": [
        {
          "output_type": "stream",
          "name": "stdout",
          "text": [
            "Corsi do Tecnolagoa da Big Deta ni ogronegecou\n"
          ]
        }
      ]
    },
    {
      "cell_type": "code",
      "source": [
        "# Exercicio 3\n",
        "def inserePar(f1, f2):\n",
        "    while not f1.vazia():\n",
        "        info=f1.remove()\n",
        "        if info%2 == 0:\n",
        "            f2.insere(info)"
      ],
      "metadata": {
        "id": "0Y0E9501ET0T"
      },
      "execution_count": null,
      "outputs": []
    },
    {
      "cell_type": "code",
      "source": [
        "# Exercicio 4\n",
        "def insereInvertido(f1, f2):\n",
        "    f3=Pilha()\n",
        "    while not f1.vazia():\n",
        "        f3.empilha(f1.remove())\n",
        "    while not f3.vazia():\n",
        "        f2.insere(f3.desempilha())"
      ],
      "metadata": {
        "id": "ZBur9SBvHJVg"
      },
      "execution_count": null,
      "outputs": []
    },
    {
      "cell_type": "code",
      "source": [
        "f1=Fila()\n",
        "f2=Fila()\n",
        "f1.insere(5)\n",
        "f1.insere(3)\n",
        "f1.insere(8)\n",
        "f1.insere(7)\n",
        "f1.insere(4)\n",
        "f1.insere(12)\n",
        "f1.insere(19)\n",
        "f1.insere(22)\n",
        "f1.insere(27)\n",
        "insereInvertido(f1, f2)\n",
        "f2.imprime()"
      ],
      "metadata": {
        "colab": {
          "base_uri": "https://localhost:8080/"
        },
        "id": "oXJ-HnHSJZhR",
        "outputId": "2d433ab9-433d-418a-ce2a-8939588fadc0"
      },
      "execution_count": null,
      "outputs": [
        {
          "output_type": "stream",
          "name": "stdout",
          "text": [
            "27 ->\n",
            "22 ->\n",
            "19 ->\n",
            "12 ->\n",
            "4 ->\n",
            "7 ->\n",
            "8 ->\n",
            "3 ->\n",
            "5 ->\n"
          ]
        }
      ]
    },
    {
      "cell_type": "code",
      "source": [
        "f1=Fila()\n",
        "f2=Fila()\n",
        "f1.insere(5)\n",
        "f1.insere(3)\n",
        "f1.insere(8)\n",
        "f1.insere(7)\n",
        "f1.insere(4)\n",
        "f1.insere(12)\n",
        "f1.insere(19)\n",
        "f1.insere(22)\n",
        "f1.insere(27)\n",
        "inserePar(f1, f2)\n",
        "f2.imprime()"
      ],
      "metadata": {
        "colab": {
          "base_uri": "https://localhost:8080/"
        },
        "id": "QJisVxXwFPSR",
        "outputId": "b4a64295-7f64-48c6-e7d0-df835d78d4d0"
      },
      "execution_count": null,
      "outputs": [
        {
          "output_type": "stream",
          "name": "stdout",
          "text": [
            "8 ->\n",
            "4 ->\n",
            "12 ->\n",
            "22 ->\n"
          ]
        }
      ]
    },
    {
      "cell_type": "code",
      "source": [
        "f1=Fila()\n",
        "f2=Fila()\n",
        "f3=Fila()\n",
        "f1.insere(5)\n",
        "f1.insere(3)\n",
        "f1.insere(8)\n",
        "f1.insere(7)\n",
        "f1.insere(4)\n",
        "inverte(f1, f2, f3)\n",
        "f2.imprime()\n",
        "f3.imprime()"
      ],
      "metadata": {
        "colab": {
          "base_uri": "https://localhost:8080/"
        },
        "id": "tNv6j9u47up6",
        "outputId": "e109a6eb-8b60-4fa4-a2e3-60a1223cf7a8"
      },
      "execution_count": null,
      "outputs": [
        {
          "output_type": "stream",
          "name": "stdout",
          "text": [
            "5 ->\n",
            "8 ->\n",
            "4 ->\n",
            "3 ->\n",
            "7 ->\n"
          ]
        }
      ]
    },
    {
      "cell_type": "code",
      "source": [
        "f1=Fila()\n",
        "f2=Fila()\n",
        "f3=Fila()\n",
        "f1.insere(4)\n",
        "f1.insere(7)\n",
        "f1.insere(8)\n",
        "f2.insere(5)\n",
        "f2.insere(3)\n",
        "f2.insere(8)\n",
        "f2.insere(7)\n",
        "f2.insere(4)\n",
        "intercalar(f1, f2, f3)\n",
        "f3.imprime()"
      ],
      "metadata": {
        "colab": {
          "base_uri": "https://localhost:8080/"
        },
        "id": "0284dcsxAJWC",
        "outputId": "62117c77-f9d7-43fa-ab3d-5b077930c313"
      },
      "execution_count": null,
      "outputs": [
        {
          "output_type": "stream",
          "name": "stdout",
          "text": [
            "4 ->\n",
            "5 ->\n",
            "7 ->\n",
            "3 ->\n",
            "8 ->\n",
            "8 ->\n",
            "7 ->\n",
            "4 ->\n"
          ]
        }
      ]
    },
    {
      "cell_type": "code",
      "source": [
        "fila=Fila()\n",
        "fila.insere(3)\n",
        "fila.insere(4)\n",
        "fila.insere(2)\n",
        "fila.insere(1)\n",
        "fila.insere(7)\n",
        "fila.imprime()\n",
        "print('--->', fila.remove())\n",
        "fila.imprime()\n",
        "print('--->', fila.remove())\n",
        "fila.imprime()\n",
        "print('--->', fila.remove())\n",
        "fila.imprime()\n",
        "\n",
        "pilha=Pilha()\n",
        "pilha.empilha(5)\n",
        "pilha.empilha(8)\n",
        "pilha.empilha(3)\n",
        "pilha.empilha(7)\n",
        "pilha.empilha(1)\n",
        "pilha.imprime()\n",
        "print('->', pilha.desempilha())\n",
        "print('->', pilha.desempilha())\n"
      ],
      "metadata": {
        "colab": {
          "base_uri": "https://localhost:8080/"
        },
        "id": "9a1zqoMO30D5",
        "outputId": "8482b4a5-75f3-49af-eb05-c57fbaadb929"
      },
      "execution_count": null,
      "outputs": [
        {
          "output_type": "stream",
          "name": "stdout",
          "text": [
            "3 ->\n",
            "4 ->\n",
            "2 ->\n",
            "1 ->\n",
            "7 ->\n",
            "---> 3\n",
            "4 ->\n",
            "2 ->\n",
            "1 ->\n",
            "7 ->\n",
            "---> 4\n",
            "2 ->\n",
            "1 ->\n",
            "7 ->\n",
            "---> 2\n",
            "1 ->\n",
            "7 ->\n",
            "1 ->\n",
            "7 ->\n",
            "3 ->\n",
            "8 ->\n",
            "5 ->\n",
            "-> 1\n",
            "-> 7\n"
          ]
        }
      ]
    }
  ]
}